{
 "cells": [
  {
   "cell_type": "code",
   "execution_count": 1,
   "metadata": {},
   "outputs": [],
   "source": [
    "import numpy as np # linear algebra\n",
    "import pandas as pd # data processing"
   ]
  },
  {
   "cell_type": "code",
   "execution_count": 3,
   "metadata": {},
   "outputs": [
    {
     "output_type": "execute_result",
     "data": {
      "text/plain": [
       "      GAME_DATE_EST   GAME_ID GAME_STATUS_TEXT  HOME_TEAM_ID  VISITOR_TEAM_ID  \\\n",
       "0        2020-12-19  12000047            Final    1610612753       1610612766   \n",
       "1        2020-12-19  12000048            Final    1610612764       1610612765   \n",
       "2        2020-12-19  12000049            Final    1610612763       1610612737   \n",
       "3        2020-12-18  12000039            Final    1610612754       1610612755   \n",
       "4        2020-12-18  12000040            Final    1610612761       1610612748   \n",
       "...             ...       ...              ...           ...              ...   \n",
       "23515    2014-10-06  11400007            Final    1610612737       1610612740   \n",
       "23516    2014-10-06  11400004            Final    1610612741       1610612764   \n",
       "23517    2014-10-06  11400005            Final    1610612747       1610612743   \n",
       "23518    2014-10-05  11400002            Final    1610612761       1610612758   \n",
       "23519    2014-10-04  11400001            Final    1610612748       1610612740   \n",
       "\n",
       "       SEASON  TEAM_ID_home  PTS_home  FG_PCT_home  FT_PCT_home  ...  \\\n",
       "0        2020    1610612753     120.0        0.433        0.792  ...   \n",
       "1        2020    1610612764      99.0        0.427        0.625  ...   \n",
       "2        2020    1610612763     116.0        0.400        0.744  ...   \n",
       "3        2020    1610612754     107.0        0.371        0.692  ...   \n",
       "4        2020    1610612761     105.0        0.380        0.737  ...   \n",
       "...       ...           ...       ...          ...          ...  ...   \n",
       "23515    2014    1610612737      93.0        0.419        0.821  ...   \n",
       "23516    2014    1610612741      81.0        0.338        0.719  ...   \n",
       "23517    2014    1610612747      98.0        0.448        0.682  ...   \n",
       "23518    2014    1610612761      99.0        0.440        0.771  ...   \n",
       "23519    2014    1610612748      86.0        0.431        0.679  ...   \n",
       "\n",
       "       AST_home  REB_home  TEAM_ID_away  PTS_away  FG_PCT_away  FT_PCT_away  \\\n",
       "0          23.0      50.0    1610612766     117.0        0.444        0.864   \n",
       "1          24.0      45.0    1610612765      96.0        0.402        0.647   \n",
       "2          21.0      43.0    1610612737     117.0        0.422        0.837   \n",
       "3          19.0      45.0    1610612755     113.0        0.533        0.629   \n",
       "4          27.0      37.0    1610612748     117.0        0.534        0.741   \n",
       "...         ...       ...           ...       ...          ...          ...   \n",
       "23515      24.0      50.0    1610612740      87.0        0.366        0.643   \n",
       "23516      18.0      40.0    1610612764      85.0        0.411        0.636   \n",
       "23517      29.0      45.0    1610612743      95.0        0.387        0.659   \n",
       "23518      21.0      30.0    1610612758      94.0        0.469        0.725   \n",
       "23519      18.0      42.0    1610612740      98.0        0.462        0.706   \n",
       "\n",
       "       FG3_PCT_away  AST_away  REB_away  HOME_TEAM_WINS  \n",
       "0             0.439      21.0      52.0               1  \n",
       "1             0.326      18.0      51.0               1  \n",
       "2             0.297      24.0      47.0               0  \n",
       "3             0.355      23.0      48.0               0  \n",
       "4             0.514      30.0      51.0               0  \n",
       "...             ...       ...       ...             ...  \n",
       "23515         0.375      17.0      43.0               1  \n",
       "23516         0.267      17.0      47.0               0  \n",
       "23517         0.500      19.0      43.0               1  \n",
       "23518         0.385      18.0      45.0               1  \n",
       "23519         0.438      19.0      42.0               0  \n",
       "\n",
       "[23520 rows x 21 columns]"
      ],
      "text/html": "<div>\n<style scoped>\n    .dataframe tbody tr th:only-of-type {\n        vertical-align: middle;\n    }\n\n    .dataframe tbody tr th {\n        vertical-align: top;\n    }\n\n    .dataframe thead th {\n        text-align: right;\n    }\n</style>\n<table border=\"1\" class=\"dataframe\">\n  <thead>\n    <tr style=\"text-align: right;\">\n      <th></th>\n      <th>GAME_DATE_EST</th>\n      <th>GAME_ID</th>\n      <th>GAME_STATUS_TEXT</th>\n      <th>HOME_TEAM_ID</th>\n      <th>VISITOR_TEAM_ID</th>\n      <th>SEASON</th>\n      <th>TEAM_ID_home</th>\n      <th>PTS_home</th>\n      <th>FG_PCT_home</th>\n      <th>FT_PCT_home</th>\n      <th>...</th>\n      <th>AST_home</th>\n      <th>REB_home</th>\n      <th>TEAM_ID_away</th>\n      <th>PTS_away</th>\n      <th>FG_PCT_away</th>\n      <th>FT_PCT_away</th>\n      <th>FG3_PCT_away</th>\n      <th>AST_away</th>\n      <th>REB_away</th>\n      <th>HOME_TEAM_WINS</th>\n    </tr>\n  </thead>\n  <tbody>\n    <tr>\n      <th>0</th>\n      <td>2020-12-19</td>\n      <td>12000047</td>\n      <td>Final</td>\n      <td>1610612753</td>\n      <td>1610612766</td>\n      <td>2020</td>\n      <td>1610612753</td>\n      <td>120.0</td>\n      <td>0.433</td>\n      <td>0.792</td>\n      <td>...</td>\n      <td>23.0</td>\n      <td>50.0</td>\n      <td>1610612766</td>\n      <td>117.0</td>\n      <td>0.444</td>\n      <td>0.864</td>\n      <td>0.439</td>\n      <td>21.0</td>\n      <td>52.0</td>\n      <td>1</td>\n    </tr>\n    <tr>\n      <th>1</th>\n      <td>2020-12-19</td>\n      <td>12000048</td>\n      <td>Final</td>\n      <td>1610612764</td>\n      <td>1610612765</td>\n      <td>2020</td>\n      <td>1610612764</td>\n      <td>99.0</td>\n      <td>0.427</td>\n      <td>0.625</td>\n      <td>...</td>\n      <td>24.0</td>\n      <td>45.0</td>\n      <td>1610612765</td>\n      <td>96.0</td>\n      <td>0.402</td>\n      <td>0.647</td>\n      <td>0.326</td>\n      <td>18.0</td>\n      <td>51.0</td>\n      <td>1</td>\n    </tr>\n    <tr>\n      <th>2</th>\n      <td>2020-12-19</td>\n      <td>12000049</td>\n      <td>Final</td>\n      <td>1610612763</td>\n      <td>1610612737</td>\n      <td>2020</td>\n      <td>1610612763</td>\n      <td>116.0</td>\n      <td>0.400</td>\n      <td>0.744</td>\n      <td>...</td>\n      <td>21.0</td>\n      <td>43.0</td>\n      <td>1610612737</td>\n      <td>117.0</td>\n      <td>0.422</td>\n      <td>0.837</td>\n      <td>0.297</td>\n      <td>24.0</td>\n      <td>47.0</td>\n      <td>0</td>\n    </tr>\n    <tr>\n      <th>3</th>\n      <td>2020-12-18</td>\n      <td>12000039</td>\n      <td>Final</td>\n      <td>1610612754</td>\n      <td>1610612755</td>\n      <td>2020</td>\n      <td>1610612754</td>\n      <td>107.0</td>\n      <td>0.371</td>\n      <td>0.692</td>\n      <td>...</td>\n      <td>19.0</td>\n      <td>45.0</td>\n      <td>1610612755</td>\n      <td>113.0</td>\n      <td>0.533</td>\n      <td>0.629</td>\n      <td>0.355</td>\n      <td>23.0</td>\n      <td>48.0</td>\n      <td>0</td>\n    </tr>\n    <tr>\n      <th>4</th>\n      <td>2020-12-18</td>\n      <td>12000040</td>\n      <td>Final</td>\n      <td>1610612761</td>\n      <td>1610612748</td>\n      <td>2020</td>\n      <td>1610612761</td>\n      <td>105.0</td>\n      <td>0.380</td>\n      <td>0.737</td>\n      <td>...</td>\n      <td>27.0</td>\n      <td>37.0</td>\n      <td>1610612748</td>\n      <td>117.0</td>\n      <td>0.534</td>\n      <td>0.741</td>\n      <td>0.514</td>\n      <td>30.0</td>\n      <td>51.0</td>\n      <td>0</td>\n    </tr>\n    <tr>\n      <th>...</th>\n      <td>...</td>\n      <td>...</td>\n      <td>...</td>\n      <td>...</td>\n      <td>...</td>\n      <td>...</td>\n      <td>...</td>\n      <td>...</td>\n      <td>...</td>\n      <td>...</td>\n      <td>...</td>\n      <td>...</td>\n      <td>...</td>\n      <td>...</td>\n      <td>...</td>\n      <td>...</td>\n      <td>...</td>\n      <td>...</td>\n      <td>...</td>\n      <td>...</td>\n      <td>...</td>\n    </tr>\n    <tr>\n      <th>23515</th>\n      <td>2014-10-06</td>\n      <td>11400007</td>\n      <td>Final</td>\n      <td>1610612737</td>\n      <td>1610612740</td>\n      <td>2014</td>\n      <td>1610612737</td>\n      <td>93.0</td>\n      <td>0.419</td>\n      <td>0.821</td>\n      <td>...</td>\n      <td>24.0</td>\n      <td>50.0</td>\n      <td>1610612740</td>\n      <td>87.0</td>\n      <td>0.366</td>\n      <td>0.643</td>\n      <td>0.375</td>\n      <td>17.0</td>\n      <td>43.0</td>\n      <td>1</td>\n    </tr>\n    <tr>\n      <th>23516</th>\n      <td>2014-10-06</td>\n      <td>11400004</td>\n      <td>Final</td>\n      <td>1610612741</td>\n      <td>1610612764</td>\n      <td>2014</td>\n      <td>1610612741</td>\n      <td>81.0</td>\n      <td>0.338</td>\n      <td>0.719</td>\n      <td>...</td>\n      <td>18.0</td>\n      <td>40.0</td>\n      <td>1610612764</td>\n      <td>85.0</td>\n      <td>0.411</td>\n      <td>0.636</td>\n      <td>0.267</td>\n      <td>17.0</td>\n      <td>47.0</td>\n      <td>0</td>\n    </tr>\n    <tr>\n      <th>23517</th>\n      <td>2014-10-06</td>\n      <td>11400005</td>\n      <td>Final</td>\n      <td>1610612747</td>\n      <td>1610612743</td>\n      <td>2014</td>\n      <td>1610612747</td>\n      <td>98.0</td>\n      <td>0.448</td>\n      <td>0.682</td>\n      <td>...</td>\n      <td>29.0</td>\n      <td>45.0</td>\n      <td>1610612743</td>\n      <td>95.0</td>\n      <td>0.387</td>\n      <td>0.659</td>\n      <td>0.500</td>\n      <td>19.0</td>\n      <td>43.0</td>\n      <td>1</td>\n    </tr>\n    <tr>\n      <th>23518</th>\n      <td>2014-10-05</td>\n      <td>11400002</td>\n      <td>Final</td>\n      <td>1610612761</td>\n      <td>1610612758</td>\n      <td>2014</td>\n      <td>1610612761</td>\n      <td>99.0</td>\n      <td>0.440</td>\n      <td>0.771</td>\n      <td>...</td>\n      <td>21.0</td>\n      <td>30.0</td>\n      <td>1610612758</td>\n      <td>94.0</td>\n      <td>0.469</td>\n      <td>0.725</td>\n      <td>0.385</td>\n      <td>18.0</td>\n      <td>45.0</td>\n      <td>1</td>\n    </tr>\n    <tr>\n      <th>23519</th>\n      <td>2014-10-04</td>\n      <td>11400001</td>\n      <td>Final</td>\n      <td>1610612748</td>\n      <td>1610612740</td>\n      <td>2014</td>\n      <td>1610612748</td>\n      <td>86.0</td>\n      <td>0.431</td>\n      <td>0.679</td>\n      <td>...</td>\n      <td>18.0</td>\n      <td>42.0</td>\n      <td>1610612740</td>\n      <td>98.0</td>\n      <td>0.462</td>\n      <td>0.706</td>\n      <td>0.438</td>\n      <td>19.0</td>\n      <td>42.0</td>\n      <td>0</td>\n    </tr>\n  </tbody>\n</table>\n<p>23520 rows × 21 columns</p>\n</div>"
     },
     "metadata": {},
     "execution_count": 3
    }
   ],
   "source": [
    "pd.read_csv('Data/games.csv')"
   ]
  },
  {
   "cell_type": "code",
   "execution_count": 4,
   "metadata": {},
   "outputs": [
    {
     "output_type": "execute_result",
     "data": {
      "text/plain": [
       "         GAME_ID     TEAM_ID TEAM_ABBREVIATION  TEAM_CITY  PLAYER_ID  \\\n",
       "0       12000047  1610612766               CHA  Charlotte    1628998   \n",
       "1       12000047  1610612766               CHA  Charlotte    1629023   \n",
       "2       12000047  1610612766               CHA  Charlotte     203469   \n",
       "3       12000047  1610612766               CHA  Charlotte    1628984   \n",
       "4       12000047  1610612766               CHA  Charlotte    1626179   \n",
       "...          ...         ...               ...        ...        ...   \n",
       "149995  20500323  1610612748               MIA      Miami       2617   \n",
       "149996  20500323  1610612748               MIA      Miami        406   \n",
       "149997  20500323  1610612748               MIA      Miami       2548   \n",
       "149998  20500323  1610612748               MIA      Miami         56   \n",
       "149999  20500323  1610612748               MIA      Miami        297   \n",
       "\n",
       "             PLAYER_NAME START_POSITION COMMENT    MIN   FGM  ...  OREB  DREB  \\\n",
       "0            Cody Martin              F     NaN  17:06   0.0  ...   0.0   2.0   \n",
       "1        P.J. Washington              F     NaN  24:58   4.0  ...   1.0   6.0   \n",
       "2            Cody Zeller              C     NaN  22:45   5.0  ...   2.0   2.0   \n",
       "3        Devonte' Graham              G     NaN  31:30   8.0  ...   1.0   3.0   \n",
       "4           Terry Rozier              G     NaN  26:48   8.0  ...   1.0   4.0   \n",
       "...                  ...            ...     ...    ...   ...  ...   ...   ...   \n",
       "149995     Udonis Haslem              F     NaN  22:56   3.0  ...   1.0   4.0   \n",
       "149996  Shaquille O'Neal              C     NaN  32:16   9.0  ...   3.0  10.0   \n",
       "149997       Dwyane Wade              G     NaN  41:35  11.0  ...   0.0   6.0   \n",
       "149998       Gary Payton              G     NaN  35:16   3.0  ...   0.0   1.0   \n",
       "149999   Alonzo Mourning            NaN     NaN  15:06   1.0  ...   2.0   7.0   \n",
       "\n",
       "         REB  AST  STL  BLK   TO   PF   PTS  PLUS_MINUS  \n",
       "0        2.0  1.0  0.0  1.0  1.0  2.0   0.0       -31.0  \n",
       "1        7.0  2.0  2.0  1.0  5.0  3.0   9.0        -2.0  \n",
       "2        4.0  0.0  0.0  1.0  0.0  2.0  13.0       -23.0  \n",
       "3        4.0  3.0  2.0  0.0  4.0  0.0  25.0        -7.0  \n",
       "4        5.0  6.0  1.0  0.0  0.0  2.0  24.0        22.0  \n",
       "...      ...  ...  ...  ...  ...  ...   ...         ...  \n",
       "149995   5.0  4.0  0.0  0.0  2.0  3.0   8.0        10.0  \n",
       "149996  13.0  1.0  1.0  2.0  3.0  4.0  21.0        20.0  \n",
       "149997   6.0  3.0  1.0  1.0  2.0  3.0  32.0         6.0  \n",
       "149998   1.0  5.0  1.0  0.0  3.0  3.0  12.0        11.0  \n",
       "149999   9.0  0.0  0.0  2.0  0.0  0.0   2.0       -12.0  \n",
       "\n",
       "[150000 rows x 28 columns]"
      ],
      "text/html": "<div>\n<style scoped>\n    .dataframe tbody tr th:only-of-type {\n        vertical-align: middle;\n    }\n\n    .dataframe tbody tr th {\n        vertical-align: top;\n    }\n\n    .dataframe thead th {\n        text-align: right;\n    }\n</style>\n<table border=\"1\" class=\"dataframe\">\n  <thead>\n    <tr style=\"text-align: right;\">\n      <th></th>\n      <th>GAME_ID</th>\n      <th>TEAM_ID</th>\n      <th>TEAM_ABBREVIATION</th>\n      <th>TEAM_CITY</th>\n      <th>PLAYER_ID</th>\n      <th>PLAYER_NAME</th>\n      <th>START_POSITION</th>\n      <th>COMMENT</th>\n      <th>MIN</th>\n      <th>FGM</th>\n      <th>...</th>\n      <th>OREB</th>\n      <th>DREB</th>\n      <th>REB</th>\n      <th>AST</th>\n      <th>STL</th>\n      <th>BLK</th>\n      <th>TO</th>\n      <th>PF</th>\n      <th>PTS</th>\n      <th>PLUS_MINUS</th>\n    </tr>\n  </thead>\n  <tbody>\n    <tr>\n      <th>0</th>\n      <td>12000047</td>\n      <td>1610612766</td>\n      <td>CHA</td>\n      <td>Charlotte</td>\n      <td>1628998</td>\n      <td>Cody Martin</td>\n      <td>F</td>\n      <td>NaN</td>\n      <td>17:06</td>\n      <td>0.0</td>\n      <td>...</td>\n      <td>0.0</td>\n      <td>2.0</td>\n      <td>2.0</td>\n      <td>1.0</td>\n      <td>0.0</td>\n      <td>1.0</td>\n      <td>1.0</td>\n      <td>2.0</td>\n      <td>0.0</td>\n      <td>-31.0</td>\n    </tr>\n    <tr>\n      <th>1</th>\n      <td>12000047</td>\n      <td>1610612766</td>\n      <td>CHA</td>\n      <td>Charlotte</td>\n      <td>1629023</td>\n      <td>P.J. Washington</td>\n      <td>F</td>\n      <td>NaN</td>\n      <td>24:58</td>\n      <td>4.0</td>\n      <td>...</td>\n      <td>1.0</td>\n      <td>6.0</td>\n      <td>7.0</td>\n      <td>2.0</td>\n      <td>2.0</td>\n      <td>1.0</td>\n      <td>5.0</td>\n      <td>3.0</td>\n      <td>9.0</td>\n      <td>-2.0</td>\n    </tr>\n    <tr>\n      <th>2</th>\n      <td>12000047</td>\n      <td>1610612766</td>\n      <td>CHA</td>\n      <td>Charlotte</td>\n      <td>203469</td>\n      <td>Cody Zeller</td>\n      <td>C</td>\n      <td>NaN</td>\n      <td>22:45</td>\n      <td>5.0</td>\n      <td>...</td>\n      <td>2.0</td>\n      <td>2.0</td>\n      <td>4.0</td>\n      <td>0.0</td>\n      <td>0.0</td>\n      <td>1.0</td>\n      <td>0.0</td>\n      <td>2.0</td>\n      <td>13.0</td>\n      <td>-23.0</td>\n    </tr>\n    <tr>\n      <th>3</th>\n      <td>12000047</td>\n      <td>1610612766</td>\n      <td>CHA</td>\n      <td>Charlotte</td>\n      <td>1628984</td>\n      <td>Devonte' Graham</td>\n      <td>G</td>\n      <td>NaN</td>\n      <td>31:30</td>\n      <td>8.0</td>\n      <td>...</td>\n      <td>1.0</td>\n      <td>3.0</td>\n      <td>4.0</td>\n      <td>3.0</td>\n      <td>2.0</td>\n      <td>0.0</td>\n      <td>4.0</td>\n      <td>0.0</td>\n      <td>25.0</td>\n      <td>-7.0</td>\n    </tr>\n    <tr>\n      <th>4</th>\n      <td>12000047</td>\n      <td>1610612766</td>\n      <td>CHA</td>\n      <td>Charlotte</td>\n      <td>1626179</td>\n      <td>Terry Rozier</td>\n      <td>G</td>\n      <td>NaN</td>\n      <td>26:48</td>\n      <td>8.0</td>\n      <td>...</td>\n      <td>1.0</td>\n      <td>4.0</td>\n      <td>5.0</td>\n      <td>6.0</td>\n      <td>1.0</td>\n      <td>0.0</td>\n      <td>0.0</td>\n      <td>2.0</td>\n      <td>24.0</td>\n      <td>22.0</td>\n    </tr>\n    <tr>\n      <th>...</th>\n      <td>...</td>\n      <td>...</td>\n      <td>...</td>\n      <td>...</td>\n      <td>...</td>\n      <td>...</td>\n      <td>...</td>\n      <td>...</td>\n      <td>...</td>\n      <td>...</td>\n      <td>...</td>\n      <td>...</td>\n      <td>...</td>\n      <td>...</td>\n      <td>...</td>\n      <td>...</td>\n      <td>...</td>\n      <td>...</td>\n      <td>...</td>\n      <td>...</td>\n      <td>...</td>\n    </tr>\n    <tr>\n      <th>149995</th>\n      <td>20500323</td>\n      <td>1610612748</td>\n      <td>MIA</td>\n      <td>Miami</td>\n      <td>2617</td>\n      <td>Udonis Haslem</td>\n      <td>F</td>\n      <td>NaN</td>\n      <td>22:56</td>\n      <td>3.0</td>\n      <td>...</td>\n      <td>1.0</td>\n      <td>4.0</td>\n      <td>5.0</td>\n      <td>4.0</td>\n      <td>0.0</td>\n      <td>0.0</td>\n      <td>2.0</td>\n      <td>3.0</td>\n      <td>8.0</td>\n      <td>10.0</td>\n    </tr>\n    <tr>\n      <th>149996</th>\n      <td>20500323</td>\n      <td>1610612748</td>\n      <td>MIA</td>\n      <td>Miami</td>\n      <td>406</td>\n      <td>Shaquille O'Neal</td>\n      <td>C</td>\n      <td>NaN</td>\n      <td>32:16</td>\n      <td>9.0</td>\n      <td>...</td>\n      <td>3.0</td>\n      <td>10.0</td>\n      <td>13.0</td>\n      <td>1.0</td>\n      <td>1.0</td>\n      <td>2.0</td>\n      <td>3.0</td>\n      <td>4.0</td>\n      <td>21.0</td>\n      <td>20.0</td>\n    </tr>\n    <tr>\n      <th>149997</th>\n      <td>20500323</td>\n      <td>1610612748</td>\n      <td>MIA</td>\n      <td>Miami</td>\n      <td>2548</td>\n      <td>Dwyane Wade</td>\n      <td>G</td>\n      <td>NaN</td>\n      <td>41:35</td>\n      <td>11.0</td>\n      <td>...</td>\n      <td>0.0</td>\n      <td>6.0</td>\n      <td>6.0</td>\n      <td>3.0</td>\n      <td>1.0</td>\n      <td>1.0</td>\n      <td>2.0</td>\n      <td>3.0</td>\n      <td>32.0</td>\n      <td>6.0</td>\n    </tr>\n    <tr>\n      <th>149998</th>\n      <td>20500323</td>\n      <td>1610612748</td>\n      <td>MIA</td>\n      <td>Miami</td>\n      <td>56</td>\n      <td>Gary Payton</td>\n      <td>G</td>\n      <td>NaN</td>\n      <td>35:16</td>\n      <td>3.0</td>\n      <td>...</td>\n      <td>0.0</td>\n      <td>1.0</td>\n      <td>1.0</td>\n      <td>5.0</td>\n      <td>1.0</td>\n      <td>0.0</td>\n      <td>3.0</td>\n      <td>3.0</td>\n      <td>12.0</td>\n      <td>11.0</td>\n    </tr>\n    <tr>\n      <th>149999</th>\n      <td>20500323</td>\n      <td>1610612748</td>\n      <td>MIA</td>\n      <td>Miami</td>\n      <td>297</td>\n      <td>Alonzo Mourning</td>\n      <td>NaN</td>\n      <td>NaN</td>\n      <td>15:06</td>\n      <td>1.0</td>\n      <td>...</td>\n      <td>2.0</td>\n      <td>7.0</td>\n      <td>9.0</td>\n      <td>0.0</td>\n      <td>0.0</td>\n      <td>2.0</td>\n      <td>0.0</td>\n      <td>0.0</td>\n      <td>2.0</td>\n      <td>-12.0</td>\n    </tr>\n  </tbody>\n</table>\n<p>150000 rows × 28 columns</p>\n</div>"
     },
     "metadata": {},
     "execution_count": 4
    }
   ],
   "source": [
    "pd.read_csv('Data/GamesDetails/games_details_0.csv')"
   ]
  },
  {
   "cell_type": "code",
   "execution_count": null,
   "metadata": {},
   "outputs": [],
   "source": []
  }
 ],
 "metadata": {
  "kernelspec": {
   "name": "python3",
   "display_name": "Python 3",
   "language": "python"
  }
 },
 "nbformat": 4,
 "nbformat_minor": 4
}